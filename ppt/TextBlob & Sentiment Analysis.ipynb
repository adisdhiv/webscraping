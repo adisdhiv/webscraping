{
 "cells": [
  {
   "cell_type": "code",
   "execution_count": 1,
   "metadata": {},
   "outputs": [],
   "source": [
    "from textblob import TextBlob"
   ]
  },
  {
   "cell_type": "code",
   "execution_count": 5,
   "metadata": {},
   "outputs": [],
   "source": [
    "text = TextBlob(\"Sentiment analysis is the interpretation and classification of emotions (positive, negative and neutral) within text data using text analysis techniques. Sentiment analysis tools allow businesses to identify customer sentiment toward products, brands or services in online feedback.\")"
   ]
  },
  {
   "cell_type": "code",
   "execution_count": 6,
   "metadata": {},
   "outputs": [
    {
     "data": {
      "text/plain": [
       "[('Sentiment', 'NN'),\n",
       " ('analysis', 'NN'),\n",
       " ('is', 'VBZ'),\n",
       " ('the', 'DT'),\n",
       " ('interpretation', 'NN'),\n",
       " ('and', 'CC'),\n",
       " ('classification', 'NN'),\n",
       " ('of', 'IN'),\n",
       " ('emotions', 'NNS'),\n",
       " ('positive', 'JJ'),\n",
       " ('negative', 'JJ'),\n",
       " ('and', 'CC'),\n",
       " ('neutral', 'JJ'),\n",
       " ('within', 'IN'),\n",
       " ('text', 'NN'),\n",
       " ('data', 'NNS'),\n",
       " ('using', 'VBG'),\n",
       " ('text', 'JJ'),\n",
       " ('analysis', 'NN'),\n",
       " ('techniques', 'NNS'),\n",
       " ('Sentiment', 'NN'),\n",
       " ('analysis', 'NN'),\n",
       " ('tools', 'NNS'),\n",
       " ('allow', 'VBP'),\n",
       " ('businesses', 'NNS'),\n",
       " ('to', 'TO'),\n",
       " ('identify', 'VB'),\n",
       " ('customer', 'NN'),\n",
       " ('sentiment', 'NN'),\n",
       " ('toward', 'IN'),\n",
       " ('products', 'NNS'),\n",
       " ('brands', 'NNS'),\n",
       " ('or', 'CC'),\n",
       " ('services', 'NNS'),\n",
       " ('in', 'IN'),\n",
       " ('online', 'JJ'),\n",
       " ('feedback', 'NN')]"
      ]
     },
     "execution_count": 6,
     "metadata": {},
     "output_type": "execute_result"
    }
   ],
   "source": [
    "#POS\n",
    "text.tags"
   ]
  },
  {
   "cell_type": "code",
   "execution_count": 7,
   "metadata": {},
   "outputs": [
    {
     "data": {
      "text/plain": [
       "WordList(['sentiment', 'text data', 'text analysis techniques', 'sentiment', 'analysis tools', 'identify customer sentiment', 'online feedback'])"
      ]
     },
     "execution_count": 7,
     "metadata": {},
     "output_type": "execute_result"
    }
   ],
   "source": [
    "# Noun Phrase\n",
    "text.noun_phrases"
   ]
  },
  {
   "cell_type": "code",
   "execution_count": 8,
   "metadata": {},
   "outputs": [
    {
     "data": {
      "text/plain": [
       "WordList(['Sentiment', 'analysis', 'is', 'the', 'interpretation', 'and', 'classification', 'of', 'emotions', 'positive', 'negative', 'and', 'neutral', 'within', 'text', 'data', 'using', 'text', 'analysis', 'techniques', 'Sentiment', 'analysis', 'tools', 'allow', 'businesses', 'to', 'identify', 'customer', 'sentiment', 'toward', 'products', 'brands', 'or', 'services', 'in', 'online', 'feedback'])"
      ]
     },
     "execution_count": 8,
     "metadata": {},
     "output_type": "execute_result"
    }
   ],
   "source": [
    "#words\n",
    "text.words"
   ]
  },
  {
   "cell_type": "code",
   "execution_count": 9,
   "metadata": {},
   "outputs": [
    {
     "data": {
      "text/plain": [
       "[Sentence(\"Sentiment analysis is the interpretation and classification of emotions (positive, negative and neutral) within text data using text analysis techniques.\"),\n",
       " Sentence(\"Sentiment analysis tools allow businesses to identify customer sentiment toward products, brands or services in online feedback.\")]"
      ]
     },
     "execution_count": 9,
     "metadata": {},
     "output_type": "execute_result"
    }
   ],
   "source": [
    "#sentences\n",
    "text.sentences"
   ]
  },
  {
   "cell_type": "code",
   "execution_count": 12,
   "metadata": {},
   "outputs": [
    {
     "data": {
      "text/plain": [
       "'Sentiments'"
      ]
     },
     "execution_count": 12,
     "metadata": {},
     "output_type": "execute_result"
    }
   ],
   "source": [
    "#word inflection\n",
    "text.words[0].pluralize()"
   ]
  },
  {
   "cell_type": "code",
   "execution_count": 13,
   "metadata": {},
   "outputs": [
    {
     "data": {
      "text/plain": [
       "'service'"
      ]
     },
     "execution_count": 13,
     "metadata": {},
     "output_type": "execute_result"
    }
   ],
   "source": [
    "text.words[-4].singularize()"
   ]
  },
  {
   "cell_type": "code",
   "execution_count": 14,
   "metadata": {},
   "outputs": [
    {
     "data": {
      "text/plain": [
       "'octopus'"
      ]
     },
     "execution_count": 14,
     "metadata": {},
     "output_type": "execute_result"
    }
   ],
   "source": [
    "#lemmatize\n",
    "from textblob import Word\n",
    "w = Word(\"octopi\")\n",
    "w.lemmatize()"
   ]
  },
  {
   "cell_type": "code",
   "execution_count": 15,
   "metadata": {},
   "outputs": [
    {
     "data": {
      "text/plain": [
       "'go'"
      ]
     },
     "execution_count": 15,
     "metadata": {},
     "output_type": "execute_result"
    }
   ],
   "source": [
    "w = Word(\"went\")\n",
    "w.lemmatize(\"v\") # Pass in WordNet part of speech (verb)"
   ]
  },
  {
   "cell_type": "code",
   "execution_count": 17,
   "metadata": {},
   "outputs": [
    {
     "name": "stdout",
     "output_type": "stream",
     "text": [
      "I have good spelling!\n"
     ]
    }
   ],
   "source": [
    "#spelling correction\n",
    "text1 = TextBlob(\"I havv goood speling!\")\n",
    "print(text1.correct())"
   ]
  },
  {
   "cell_type": "code",
   "execution_count": 21,
   "metadata": {},
   "outputs": [
    {
     "data": {
      "text/plain": [
       "[('surprise', 0.9727272727272728), ('sunrise', 0.02727272727272727)]"
      ]
     },
     "execution_count": 21,
     "metadata": {},
     "output_type": "execute_result"
    }
   ],
   "source": [
    "w = Word(\"suprise\")\n",
    "w.spellcheck()"
   ]
  },
  {
   "cell_type": "code",
   "execution_count": 25,
   "metadata": {},
   "outputs": [
    {
     "data": {
      "text/plain": [
       "3"
      ]
     },
     "execution_count": 25,
     "metadata": {},
     "output_type": "execute_result"
    }
   ],
   "source": [
    "text.words.count('sentiment')"
   ]
  },
  {
   "cell_type": "code",
   "execution_count": 34,
   "metadata": {},
   "outputs": [
    {
     "data": {
      "text/plain": [
       "2"
      ]
     },
     "execution_count": 34,
     "metadata": {},
     "output_type": "execute_result"
    }
   ],
   "source": [
    "text.noun_phrases.count('sentiment')"
   ]
  },
  {
   "cell_type": "code",
   "execution_count": 28,
   "metadata": {},
   "outputs": [
    {
     "data": {
      "text/plain": [
       "'Sentiment/NN/B-NP/O analysis/NN/I-NP/O is/VBZ/B-VP/O the/DT/B-NP/O interpretation/NN/I-NP/O and/CC/O/O classification/NN/B-NP/O of/IN/B-PP/B-PNP emotions/NNS/B-NP/I-PNP (/(/O/O positive/JJ/B-ADJP/O ,/,/O/O negative/JJ/B-ADJP/O and/CC/I-ADJP/O neutral/JJ/I-ADJP/O )/)/O/O within/IN/B-PP/B-PNP text/NN/B-NP/I-PNP data/NNS/I-NP/I-PNP using/VBG/B-VP/I-PNP text/NN/B-NP/I-PNP analysis/NN/I-NP/I-PNP techniques/NNS/I-NP/I-PNP ././O/O'"
      ]
     },
     "execution_count": 28,
     "metadata": {},
     "output_type": "execute_result"
    }
   ],
   "source": [
    "# Parsing - Each token is tagged with one of three special chunk tags, I (inside), O (outside), or B (begin). A token is tagged as B if it marks the beginning of a chunk. Subsequent tokens within the chunk are tagged I. All other tokens are tagged O. The B and I tags are suffixed with the chunk type, e.g. B-NP, I-NP. \n",
    "text.sentences[0].parse()"
   ]
  },
  {
   "cell_type": "code",
   "execution_count": 29,
   "metadata": {},
   "outputs": [
    {
     "data": {
      "text/plain": [
       "[WordList(['Sentiment', 'analysis', 'is']),\n",
       " WordList(['analysis', 'is', 'the']),\n",
       " WordList(['is', 'the', 'interpretation']),\n",
       " WordList(['the', 'interpretation', 'and']),\n",
       " WordList(['interpretation', 'and', 'classification']),\n",
       " WordList(['and', 'classification', 'of']),\n",
       " WordList(['classification', 'of', 'emotions']),\n",
       " WordList(['of', 'emotions', 'positive']),\n",
       " WordList(['emotions', 'positive', 'negative']),\n",
       " WordList(['positive', 'negative', 'and']),\n",
       " WordList(['negative', 'and', 'neutral']),\n",
       " WordList(['and', 'neutral', 'within']),\n",
       " WordList(['neutral', 'within', 'text']),\n",
       " WordList(['within', 'text', 'data']),\n",
       " WordList(['text', 'data', 'using']),\n",
       " WordList(['data', 'using', 'text']),\n",
       " WordList(['using', 'text', 'analysis']),\n",
       " WordList(['text', 'analysis', 'techniques']),\n",
       " WordList(['analysis', 'techniques', 'Sentiment']),\n",
       " WordList(['techniques', 'Sentiment', 'analysis']),\n",
       " WordList(['Sentiment', 'analysis', 'tools']),\n",
       " WordList(['analysis', 'tools', 'allow']),\n",
       " WordList(['tools', 'allow', 'businesses']),\n",
       " WordList(['allow', 'businesses', 'to']),\n",
       " WordList(['businesses', 'to', 'identify']),\n",
       " WordList(['to', 'identify', 'customer']),\n",
       " WordList(['identify', 'customer', 'sentiment']),\n",
       " WordList(['customer', 'sentiment', 'toward']),\n",
       " WordList(['sentiment', 'toward', 'products']),\n",
       " WordList(['toward', 'products', 'brands']),\n",
       " WordList(['products', 'brands', 'or']),\n",
       " WordList(['brands', 'or', 'services']),\n",
       " WordList(['or', 'services', 'in']),\n",
       " WordList(['services', 'in', 'online']),\n",
       " WordList(['in', 'online', 'feedback'])]"
      ]
     },
     "execution_count": 29,
     "metadata": {},
     "output_type": "execute_result"
    }
   ],
   "source": [
    "#ngrams\n",
    "text.ngrams(n=3)"
   ]
  },
  {
   "cell_type": "code",
   "execution_count": 30,
   "metadata": {},
   "outputs": [
    {
     "data": {
      "text/plain": [
       "'de'"
      ]
     },
     "execution_count": 30,
     "metadata": {},
     "output_type": "execute_result"
    }
   ],
   "source": [
    "#language detection , translation\n",
    "lang = TextBlob('wie gehts')\n",
    "lang.detect_language()"
   ]
  },
  {
   "cell_type": "code",
   "execution_count": 32,
   "metadata": {},
   "outputs": [
    {
     "name": "stdout",
     "output_type": "stream",
     "text": [
      "how are you\n"
     ]
    }
   ],
   "source": [
    "print(lang.translate(from_lang='de', to ='en'))"
   ]
  },
  {
   "cell_type": "markdown",
   "metadata": {},
   "source": [
    "### Authenticating Twitter"
   ]
  },
  {
   "cell_type": "code",
   "execution_count": 8,
   "metadata": {},
   "outputs": [],
   "source": [
    "import tweepy\n",
    "from textblob import TextBlob\n",
    "import csv\n",
    "\n",
    "consumer_key= ''\n",
    "consumer_secret= ''\n",
    "access_token=''\n",
    "access_token_secret=''\n",
    "auth = tweepy.OAuthHandler(consumer_key, consumer_secret)\n",
    "auth.set_access_token(access_token, access_token_secret)\n",
    "\n",
    "api = tweepy.API(auth)\n",
    "public_tweets = api.search('travel')"
   ]
  },
  {
   "cell_type": "markdown",
   "metadata": {},
   "source": [
    "### TextBlob"
   ]
  },
  {
   "cell_type": "code",
   "execution_count": 9,
   "metadata": {},
   "outputs": [
    {
     "name": "stdout",
     "output_type": "stream",
     "text": [
      "RT @Yamidoh: 牛頭角の蘭香園閉まるんマジか……／【牛頭角老店結業】51年歷史蘭香園茶餐廳結業 8月17日告別街坊 - 飲食男女 Eat and Travel Weekly https://t.co/SzXPgBW49A\n",
      "Sentiment(polarity=0.0, subjectivity=0.0)\n",
      "Can't wait to travel the  worl.\n",
      "Sentiment(polarity=0.0, subjectivity=0.0)\n",
      "@JackLeyland23 @KatiePavlich such a move was \"how Croatia and Bosnia and Herzegovina have always been Serbian count… https://t.co/rOR2aE3NFv\n",
      "Sentiment(polarity=0.0, subjectivity=0.5)\n",
      "RT @hxxdxpm_cas: 🎒travel time 🎒 https://t.co/RIIIrRSpoO\n",
      "Sentiment(polarity=0.0, subjectivity=0.0)\n",
      "RT @paolobenza: Más allá de los chongos (mi favorito: el ministro Work &amp; Travel), sí hay cosas que decir sobre Martín Ruggiero. Y no son so…\n",
      "Sentiment(polarity=0.0, subjectivity=0.0)\n",
      "@Hepworthclare It will be announced later today that Ireland will place the USA and the UK on their new \"Do Not Travel to\" list.\n",
      "Sentiment(polarity=0.06818181818181818, subjectivity=0.22727272727272727)\n",
      "RT @readingagency: Here is #TheGreatOutdoorsBooklist for children and young people. We can't travel as much at the moment, so our selection…\n",
      "Sentiment(polarity=0.15000000000000002, subjectivity=0.30000000000000004)\n",
      "The US will not be on the travel 'green list' and Britain is also \"unlikely\" to make the cut.\n",
      "\n",
      "The Government is se… https://t.co/H2deh3547t\n",
      "Sentiment(polarity=-0.35, subjectivity=0.4)\n",
      "RT @newbury3186: CONFUSION STARTS AGAIN.\n",
      "\n",
      "After @DanielAndrewsMP guaranteed there were no travel restrictions on exercise in Melbourne, he…\n",
      "Sentiment(polarity=0.0, subjectivity=0.0)\n",
      "RT @BangaloreTimes1: Kichcha Sudeep's latest post gives us  travel goals, doesn't it?\n",
      "\n",
      "@KicchaSudeep https://t.co/ALbburML4Y\n",
      "Sentiment(polarity=0.5, subjectivity=0.9)\n",
      "@Lazarbeam Dark, it's a sci-fi time travel series, it's a must watch, beware of mind fuckery tho\n",
      "Sentiment(polarity=-0.15, subjectivity=0.4)\n",
      "RT @UKinTurkey: Turkey travel advice- Change made\n",
      "Addition of information on curfews for visitors aged over 65 (‘Coronavirus’ and ‘Safety a…\n",
      "Sentiment(polarity=-0.1, subjectivity=0.4)\n",
      "@ClimateWarrior7 Good point CW ... plus Jemima and Jeremy can buy away their CO2 shame from frivolous travel by sim… https://t.co/p5WkkwmUDH\n",
      "Sentiment(polarity=0.7, subjectivity=0.6000000000000001)\n",
      "RT @CTAUK1: Communications with passengers is key when it comes to restarting any services, says John. Let them know what to expect on your…\n",
      "Sentiment(polarity=0.0, subjectivity=1.0)\n",
      "@TonyOElumelu Become a citizen in 90 days, Starting from $100,000 and up\n",
      "\n",
      "Visa-free travel to 152 countries includi… https://t.co/tDdudaGEuf\n",
      "Sentiment(polarity=0.0, subjectivity=0.1)\n"
     ]
    }
   ],
   "source": [
    "for tweet in public_tweets:\n",
    "    print(tweet.text)\n",
    "    analysis = TextBlob(tweet.text)\n",
    "    print(analysis.sentiment)"
   ]
  },
  {
   "cell_type": "markdown",
   "metadata": {},
   "source": [
    "### NLTK VADER (Valence Aware Dictionary and sEntiment Reasoner))"
   ]
  },
  {
   "cell_type": "code",
   "execution_count": 10,
   "metadata": {},
   "outputs": [
    {
     "name": "stdout",
     "output_type": "stream",
     "text": [
      "RT @Yamidoh: 牛頭角の蘭香園閉まるんマジか……／【牛頭角老店結業】51年歷史蘭香園茶餐廳結業 8月17日告別街坊 - 飲食男女 Eat and Travel Weekly https://t.co/SzXPgBW49A\n",
      "{'neg': 0.0, 'neu': 1.0, 'pos': 0.0, 'compound': 0.0}\n",
      "Can't wait to travel the  worl.\n",
      "{'neg': 0.0, 'neu': 1.0, 'pos': 0.0, 'compound': 0.0}\n",
      "@JackLeyland23 @KatiePavlich such a move was \"how Croatia and Bosnia and Herzegovina have always been Serbian count… https://t.co/rOR2aE3NFv\n",
      "{'neg': 0.0, 'neu': 1.0, 'pos': 0.0, 'compound': 0.0}\n",
      "RT @hxxdxpm_cas: 🎒travel time 🎒 https://t.co/RIIIrRSpoO\n",
      "{'neg': 0.0, 'neu': 1.0, 'pos': 0.0, 'compound': 0.0}\n",
      "RT @paolobenza: Más allá de los chongos (mi favorito: el ministro Work &amp; Travel), sí hay cosas que decir sobre Martín Ruggiero. Y no son so…\n",
      "{'neg': 0.084, 'neu': 0.916, 'pos': 0.0, 'compound': -0.296}\n",
      "@Hepworthclare It will be announced later today that Ireland will place the USA and the UK on their new \"Do Not Travel to\" list.\n",
      "{'neg': 0.0, 'neu': 1.0, 'pos': 0.0, 'compound': 0.0}\n",
      "RT @readingagency: Here is #TheGreatOutdoorsBooklist for children and young people. We can't travel as much at the moment, so our selection…\n",
      "{'neg': 0.0, 'neu': 1.0, 'pos': 0.0, 'compound': 0.0}\n",
      "The US will not be on the travel 'green list' and Britain is also \"unlikely\" to make the cut.\n",
      "\n",
      "The Government is se… https://t.co/H2deh3547t\n",
      "{'neg': 0.084, 'neu': 0.916, 'pos': 0.0, 'compound': -0.2732}\n",
      "RT @newbury3186: CONFUSION STARTS AGAIN.\n",
      "\n",
      "After @DanielAndrewsMP guaranteed there were no travel restrictions on exercise in Melbourne, he…\n",
      "{'neg': 0.243, 'neu': 0.757, 'pos': 0.0, 'compound': -0.6289}\n",
      "RT @BangaloreTimes1: Kichcha Sudeep's latest post gives us  travel goals, doesn't it?\n",
      "\n",
      "@KicchaSudeep https://t.co/ALbburML4Y\n",
      "{'neg': 0.0, 'neu': 1.0, 'pos': 0.0, 'compound': 0.0}\n",
      "@Lazarbeam Dark, it's a sci-fi time travel series, it's a must watch, beware of mind fuckery tho\n",
      "{'neg': 0.0, 'neu': 1.0, 'pos': 0.0, 'compound': 0.0}\n",
      "RT @UKinTurkey: Turkey travel advice- Change made\n",
      "Addition of information on curfews for visitors aged over 65 (‘Coronavirus’ and ‘Safety a…\n",
      "{'neg': 0.0, 'neu': 1.0, 'pos': 0.0, 'compound': 0.0}\n",
      "@ClimateWarrior7 Good point CW ... plus Jemima and Jeremy can buy away their CO2 shame from frivolous travel by sim… https://t.co/p5WkkwmUDH\n",
      "{'neg': 0.124, 'neu': 0.76, 'pos': 0.116, 'compound': -0.0516}\n",
      "RT @CTAUK1: Communications with passengers is key when it comes to restarting any services, says John. Let them know what to expect on your…\n",
      "{'neg': 0.0, 'neu': 1.0, 'pos': 0.0, 'compound': 0.0}\n",
      "@TonyOElumelu Become a citizen in 90 days, Starting from $100,000 and up\n",
      "\n",
      "Visa-free travel to 152 countries includi… https://t.co/tDdudaGEuf\n",
      "{'neg': 0.0, 'neu': 1.0, 'pos': 0.0, 'compound': 0.0}\n"
     ]
    }
   ],
   "source": [
    "import nltk\n",
    "#nltk.download('vader_lexicon')\n",
    "from nltk.sentiment.vader import SentimentIntensityAnalyzer\n",
    "sid = SentimentIntensityAnalyzer()\n",
    "for tweet in public_tweets:\n",
    "    print(tweet.text)\n",
    "    print(sid.polarity_scores(tweet.text))"
   ]
  },
  {
   "cell_type": "markdown",
   "metadata": {},
   "source": [
    "### IBM Watson"
   ]
  },
  {
   "cell_type": "code",
   "execution_count": 11,
   "metadata": {},
   "outputs": [],
   "source": [
    "from watson_developer_cloud import NaturalLanguageUnderstandingV1\n",
    "from watson_developer_cloud.natural_language_understanding_v1 \\\n",
    "import Features, EntitiesOptions, KeywordsOptions, SemanticRolesOptions, SentimentOptions, EmotionOptions, ConceptsOptions, CategoriesOptions"
   ]
  },
  {
   "cell_type": "code",
   "execution_count": 12,
   "metadata": {},
   "outputs": [],
   "source": [
    "apikey='VT_DGFlpcpOwnrpGwSVDmr2hDOndmhtJfHUpwj1amU12'\n",
    "url='https://api.eu-gb.natural-language-understanding.watson.cloud.ibm.com/instances/04a5ec70-4493-44d9-a6e8-1536cef7f10d'\n",
    "\n",
    "natural_language_understanding = NaturalLanguageUnderstandingV1(\n",
    "    version='2019-01-25',\n",
    "    iam_api_key=apikey,\n",
    "    url=url\n",
    ")"
   ]
  },
  {
   "cell_type": "code",
   "execution_count": 13,
   "metadata": {},
   "outputs": [
    {
     "name": "stdout",
     "output_type": "stream",
     "text": [
      "RT @Yamidoh: 牛頭角の蘭香園閉まるんマジか……／【牛頭角老店結業】51年歷史蘭香園茶餐廳結業 8月17日告別街坊 - 飲食男女 Eat and Travel Weekly https://t.co/SzXPgBW49A\n",
      "{'usage': {'text_units': 1, 'text_characters': 115, 'features': 1}, 'sentiment': {'document': {'score': 0, 'label': 'neutral'}}, 'language': 'ja'}\n",
      "neutral\n",
      "Can't wait to travel the  worl.\n",
      "{'usage': {'text_units': 1, 'text_characters': 31, 'features': 1}, 'sentiment': {'document': {'score': 0.763285, 'label': 'positive'}}, 'language': 'en'}\n",
      "positive\n",
      "@JackLeyland23 @KatiePavlich such a move was \"how Croatia and Bosnia and Herzegovina have always been Serbian count… https://t.co/rOR2aE3NFv\n",
      "{'usage': {'text_units': 1, 'text_characters': 140, 'features': 1}, 'sentiment': {'document': {'score': 0, 'label': 'neutral'}}, 'language': 'en'}\n",
      "neutral\n",
      "RT @hxxdxpm_cas: 🎒travel time 🎒 https://t.co/RIIIrRSpoO\n",
      "{'usage': {'text_units': 1, 'text_characters': 55, 'features': 1}, 'sentiment': {'document': {'score': 0, 'label': 'neutral'}}, 'language': 'en'}\n",
      "neutral\n",
      "RT @paolobenza: Más allá de los chongos (mi favorito: el ministro Work &amp; Travel), sí hay cosas que decir sobre Martín Ruggiero. Y no son so…\n",
      "{'usage': {'text_units': 1, 'text_characters': 144, 'features': 1}, 'sentiment': {'document': {'score': 0, 'label': 'neutral'}}, 'language': 'es'}\n",
      "neutral\n",
      "@Hepworthclare It will be announced later today that Ireland will place the USA and the UK on their new \"Do Not Travel to\" list.\n",
      "{'usage': {'text_units': 1, 'text_characters': 128, 'features': 1}, 'sentiment': {'document': {'score': 0, 'label': 'neutral'}}, 'language': 'en'}\n",
      "neutral\n",
      "RT @readingagency: Here is #TheGreatOutdoorsBooklist for children and young people. We can't travel as much at the moment, so our selection…\n",
      "{'usage': {'text_units': 1, 'text_characters': 140, 'features': 1}, 'sentiment': {'document': {'score': -0.353365, 'label': 'negative'}}, 'language': 'en'}\n",
      "negative\n",
      "The US will not be on the travel 'green list' and Britain is also \"unlikely\" to make the cut.\n",
      "\n",
      "The Government is se… https://t.co/H2deh3547t\n",
      "{'usage': {'text_units': 1, 'text_characters': 140, 'features': 1}, 'sentiment': {'document': {'score': -0.550815, 'label': 'negative'}}, 'language': 'en'}\n",
      "negative\n",
      "RT @newbury3186: CONFUSION STARTS AGAIN.\n",
      "\n",
      "After @DanielAndrewsMP guaranteed there were no travel restrictions on exercise in Melbourne, he…\n",
      "{'usage': {'text_units': 1, 'text_characters': 139, 'features': 1}, 'sentiment': {'document': {'score': -0.890706, 'label': 'negative'}}, 'language': 'en'}\n",
      "negative\n",
      "RT @BangaloreTimes1: Kichcha Sudeep's latest post gives us  travel goals, doesn't it?\n",
      "\n",
      "@KicchaSudeep https://t.co/ALbburML4Y\n",
      "{'usage': {'text_units': 1, 'text_characters': 124, 'features': 1}, 'sentiment': {'document': {'score': 0, 'label': 'neutral'}}, 'language': 'en'}\n",
      "neutral\n",
      "@Lazarbeam Dark, it's a sci-fi time travel series, it's a must watch, beware of mind fuckery tho\n",
      "{'usage': {'text_units': 1, 'text_characters': 96, 'features': 1}, 'sentiment': {'document': {'score': -0.71343, 'label': 'negative'}}, 'language': 'en'}\n",
      "negative\n",
      "RT @UKinTurkey: Turkey travel advice- Change made\n",
      "Addition of information on curfews for visitors aged over 65 (‘Coronavirus’ and ‘Safety a…\n",
      "{'usage': {'text_units': 1, 'text_characters': 140, 'features': 1}, 'sentiment': {'document': {'score': 0, 'label': 'neutral'}}, 'language': 'en'}\n",
      "neutral\n",
      "@ClimateWarrior7 Good point CW ... plus Jemima and Jeremy can buy away their CO2 shame from frivolous travel by sim… https://t.co/p5WkkwmUDH\n",
      "{'usage': {'text_units': 1, 'text_characters': 140, 'features': 1}, 'sentiment': {'document': {'score': -0.826433, 'label': 'negative'}}, 'language': 'en'}\n",
      "negative\n",
      "RT @CTAUK1: Communications with passengers is key when it comes to restarting any services, says John. Let them know what to expect on your…\n",
      "{'usage': {'text_units': 1, 'text_characters': 140, 'features': 1}, 'sentiment': {'document': {'score': -0.788896, 'label': 'negative'}}, 'language': 'en'}\n",
      "negative\n",
      "@TonyOElumelu Become a citizen in 90 days, Starting from $100,000 and up\n",
      "\n",
      "Visa-free travel to 152 countries includi… https://t.co/tDdudaGEuf\n",
      "{'usage': {'text_units': 1, 'text_characters': 140, 'features': 1}, 'sentiment': {'document': {'score': 0, 'label': 'neutral'}}, 'language': 'en'}\n",
      "neutral\n"
     ]
    }
   ],
   "source": [
    "for tweet in public_tweets:\n",
    "    print(tweet.text)\n",
    "    a = natural_language_understanding.analyze(text=tweet.text, features=Features(sentiment=SentimentOptions()))\n",
    "    print(a)\n",
    "    print(a['sentiment']['document']['label'])"
   ]
  },
  {
   "cell_type": "code",
   "execution_count": null,
   "metadata": {},
   "outputs": [],
   "source": []
  }
 ],
 "metadata": {
  "kernelspec": {
   "display_name": "Python 3",
   "language": "python",
   "name": "python3"
  },
  "language_info": {
   "codemirror_mode": {
    "name": "ipython",
    "version": 3
   },
   "file_extension": ".py",
   "mimetype": "text/x-python",
   "name": "python",
   "nbconvert_exporter": "python",
   "pygments_lexer": "ipython3",
   "version": "3.7.6"
  }
 },
 "nbformat": 4,
 "nbformat_minor": 4
}
