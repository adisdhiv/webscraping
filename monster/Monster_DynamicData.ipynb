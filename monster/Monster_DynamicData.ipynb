{
 "cells": [
  {
   "cell_type": "code",
   "execution_count": 1,
   "metadata": {},
   "outputs": [],
   "source": [
    "from selenium import webdriver\n",
    "from selenium.webdriver.common.keys import Keys\n",
    "from bs4 import BeautifulSoup\n",
    "import requests\n",
    "import pandas as pd\n",
    "import time\n",
    "from selenium.common.exceptions import ElementNotInteractableException"
   ]
  },
  {
   "cell_type": "code",
   "execution_count": null,
   "metadata": {},
   "outputs": [],
   "source": [
    "driver = webdriver.Chrome()\n",
    "page = driver.get(\"https://www.monster.com/jobs/search/?q=Finance&where=Houston__2C-TX\")\n",
    "classContent = driver.find_elements_by_xpath(\"//*[@id='SearchResults']/section\")\n",
    "\n",
    "for i in classContent:\n",
    "    try:\n",
    "        i.click()\n",
    "        time.sleep(5)\n",
    "        soup = BeautifulSoup(driver.page_source,'html.parser')\n",
    "        jobDetails = [job.text for job in soup.select(\"div#JobDescription > span#TrackingJobBody\")]\n",
    "        highlightsDetails = [highlight.text.replace(\"\\n\", \" \").strip() for highlight in soup.select(\"div#tab-highlights\")]\n",
    "        aboutCompanyDetails = [about.text.replace(\"\\n\", \" \").strip() for about in soup.select(\"div#AboutCompany\")]\n",
    "        time.sleep(5)\n",
    "        print(jobDetails)\n",
    "        print(highlightsDetails)\n",
    "        print(aboutCompanyDetails)\n",
    "    except ElementNotInteractableException:\n",
    "        continue"
   ]
  },
  {
   "cell_type": "code",
   "execution_count": null,
   "metadata": {},
   "outputs": [],
   "source": []
  }
 ],
 "metadata": {
  "kernelspec": {
   "display_name": "Python 3",
   "language": "python",
   "name": "python3"
  },
  "language_info": {
   "codemirror_mode": {
    "name": "ipython",
    "version": 3
   },
   "file_extension": ".py",
   "mimetype": "text/x-python",
   "name": "python",
   "nbconvert_exporter": "python",
   "pygments_lexer": "ipython3",
   "version": "3.7.6"
  }
 },
 "nbformat": 4,
 "nbformat_minor": 4
}
